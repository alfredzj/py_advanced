{
 "cells": [
  {
   "cell_type": "markdown",
   "metadata": {},
   "source": [
    "#### Multi process\n",
    "Remember that it would not work in Jupyter notebook unless you make some modifications to the code.\n",
    "https://medium.com/@grvsinghal/speed-up-your-python-code-using-multiprocessing-on-windows-and-jupyter-or-ipython-2714b49d6fac\n",
    "\n",
    "https://pymotw.com/3/multiprocessing/basics.html"
   ]
  },
  {
   "cell_type": "code",
   "execution_count": 1,
   "metadata": {},
   "outputs": [],
   "source": [
    "import multiprocessing"
   ]
  },
  {
   "cell_type": "code",
   "execution_count": 2,
   "metadata": {},
   "outputs": [],
   "source": [
    "# # not working, refer to the above link\n",
    "# def worker(num):\n",
    "#     \"\"\"thread worker function\"\"\"\n",
    "#     print ('Worker:', num)\n",
    "#     return\n",
    "\n",
    "# jobs = []\n",
    "# for i in range(5):\n",
    "#     p = multiprocessing.Process(target=worker, args=(i,))\n",
    "#     jobs.append(p)\n",
    "#     p.start()"
   ]
  },
  {
   "cell_type": "code",
   "execution_count": 4,
   "metadata": {},
   "outputs": [],
   "source": [
    "# answer will show in the terminal\n",
    "%run multi-process-daemon.py"
   ]
  },
  {
   "cell_type": "markdown",
   "metadata": {},
   "source": [
    "#### Key APIs in multiprocessing module\n",
    "\n",
    "Process class\n",
    "- similar to Thread class\n",
    "- Note that daemon process cannot spawn child processes.\n",
    "\n",
    "The threading module has the Thread class that implements threading. The methods provided by the Thread class are as follows\n",
    "- run() − The run() method is the entry point for a thread.\n",
    "- start() − The start() method starts a thread by calling the run method.\n",
    "- join([time]) − The join() waits for threads to terminate. \n",
    "\n",
    "Look for the multi-process-xxx.py"
   ]
  },
  {
   "cell_type": "code",
   "execution_count": null,
   "metadata": {},
   "outputs": [],
   "source": []
  }
 ],
 "metadata": {
  "kernelspec": {
   "display_name": "Python 3",
   "language": "python",
   "name": "python3"
  },
  "language_info": {
   "codemirror_mode": {
    "name": "ipython",
    "version": 3
   },
   "file_extension": ".py",
   "mimetype": "text/x-python",
   "name": "python",
   "nbconvert_exporter": "python",
   "pygments_lexer": "ipython3",
   "version": "3.6.12"
  }
 },
 "nbformat": 4,
 "nbformat_minor": 4
}
