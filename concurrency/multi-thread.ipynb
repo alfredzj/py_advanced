{
 "cells": [
  {
   "cell_type": "markdown",
   "metadata": {},
   "source": [
    "#### Multi threads\n",
    "\n",
    "https://python3-cookbook.readthedocs.io/zh_CN/latest/c12/p01_start_stop_thread.html"
   ]
  },
  {
   "cell_type": "markdown",
   "metadata": {},
   "source": [
    "多线程\n",
    "\n",
    "- 当你创建好一个线程对象后，该对象并不会立即执行，除非你调用它的 start() 方法（当你调用 start() 方法时，它会调用你传递进来的函数，并把你传递进来的参数传递给该函数）\n",
    "- 线程一旦启动，将独立执行直到目标函数返回。你可以查询一个线程对象的状态，看它是否还在执行：\n",
    "    - t.is_alive()\n",
    "- 也可以将一个线程加入到当前线程，并等待它终止\n",
    "    - t.join()\n",
    "- 对于需要长时间运行的线程或者需要一直运行的后台任务，你应当考虑使用后台线程(Daemon thread)，后台线程无法等待，不过，这些线程会在主线程终止时自动销毁。\n",
    "- 由于全局解释锁（GIL）的原因，Python 的线程被限制到同一时刻只允许一个线程执行这样一个执行模型。所以，Python 的线程更适用于处理I/O和其他需要并发执行的阻塞操作（比如等待I/O、等待从数据库获取数据等等），而不是需要多处理器并行的计算密集型任务。"
   ]
  },
  {
   "cell_type": "code",
   "execution_count": 1,
   "metadata": {},
   "outputs": [],
   "source": [
    "import threading\n",
    "import time\n",
    "from queue import Queue"
   ]
  },
  {
   "cell_type": "code",
   "execution_count": 2,
   "metadata": {},
   "outputs": [],
   "source": [
    "# examples\n",
    "def print_time( threadName, delay):\n",
    "    count = 0\n",
    "    while count < 5:\n",
    "        time.sleep(delay)\n",
    "        count += 1\n",
    "        print (\"%s: %s\" % ( threadName, time.ctime(time.time()) ))\n",
    "\n",
    "# Create two threads as follows\n",
    "try:\n",
    "    threading.Thread( target=print_time, args=(\"Thread-1\", 2, ) ).start()\n",
    "    threading.Thread( target=print_time, args=(\"Thread-2\", 4, ) ).start()\n",
    "except:\n",
    "    print (\"Error: unable to start thread\")"
   ]
  },
  {
   "cell_type": "markdown",
   "metadata": {},
   "source": [
    "#### Key APIs in Threading module\n",
    "\n",
    "The threading module exposes all the methods of the thread module and provides some additional methods\n",
    "- threading.activeCount() − Returns the number of thread objects that are active.\n",
    "- threading.currentThread() − Returns the number of thread objects in the caller's thread control.\n",
    "- threading.enumerate() − Returns a list of all thread objects that are currently active.\n",
    "\n",
    "The threading module has the Thread class that implements threading. The methods provided by the Thread class are as follows\n",
    "- run() − The run() method is the entry point for a thread.\n",
    "- start() − The start() method starts a thread by calling the run method.\n",
    "- join([time]) − The join() waits for threads to terminate.\n",
    "- isAlive() − The isAlive() method checks whether a thread is still executing.\n",
    "- getName() − The getName() method returns the name of a thread.\n",
    "- setName() − The setName() method sets the name of a thread."
   ]
  },
  {
   "cell_type": "code",
   "execution_count": 3,
   "metadata": {},
   "outputs": [
    {
     "name": "stdout",
     "output_type": "stream",
     "text": [
      "Starting Thread-1\n",
      "Starting Thread-2\n",
      "Exiting Main Thread\n"
     ]
    }
   ],
   "source": [
    "# example of thread class\n",
    "class myThread (threading.Thread):\n",
    "    def __init__(self, threadID, name, counter):\n",
    "        threading.Thread.__init__(self)\n",
    "        self.threadID = threadID\n",
    "        self.name = name\n",
    "        self.counter = counter\n",
    "        \n",
    "    def run(self):\n",
    "        print (\"Starting \" + self.name)\n",
    "        print_time(self.name, 3, self.counter)\n",
    "        print (\"Exiting \" + self.name)\n",
    "\n",
    "def print_time(threadName, counter, delay):\n",
    "    while counter:\n",
    "        time.sleep(delay)\n",
    "        print (\"%s: %s\" % (threadName, time.ctime(time.time())))\n",
    "        counter -= 1\n",
    "\n",
    "# Create new threads\n",
    "thread1 = myThread(1, \"Thread-1\", 1)\n",
    "thread2 = myThread(2, \"Thread-2\", 2)\n",
    "\n",
    "# Start new Threads\n",
    "thread1.start()\n",
    "thread2.start()\n",
    "\n",
    "# run new Threads locally\n",
    "# thread1.run()\n",
    "# thread2.run()\n",
    "\n",
    "print (\"Exiting Main Thread\")"
   ]
  },
  {
   "cell_type": "code",
   "execution_count": 4,
   "metadata": {},
   "outputs": [
    {
     "name": "stdout",
     "output_type": "stream",
     "text": [
      "Starting Thread-1\n",
      "Starting Thread-2\n",
      "Thread-1: Wed Mar 17 23:16:30 2021\n",
      "Thread-1: Wed Mar 17 23:16:30 2021\n",
      "Thread-1: Wed Mar 17 23:16:31 2021\n",
      "Thread-1: Wed Mar 17 23:16:31 2021Thread-2: Wed Mar 17 23:16:31 2021\n",
      "\n",
      "Thread-1: Wed Mar 17 23:16:31 2021\n",
      "Thread-1: Wed Mar 17 23:16:32 2021\n",
      "Exiting Thread-1\n",
      "Thread-1: Wed Mar 17 23:16:32 2021\n",
      "Exiting Thread-1\n",
      "Thread-2: Wed Mar 17 23:16:33 2021\n",
      "Thread-1: Wed Mar 17 23:16:33 2021\n",
      "Thread-2: Wed Mar 17 23:16:33 2021\n",
      "Thread-2: Wed Mar 17 23:16:34 2021\n",
      "Thread-1: Wed Mar 17 23:16:35 2021\n",
      "Thread-2: Wed Mar 17 23:16:35 2021\n",
      "Exiting Thread-2\n",
      "Thread-2: Wed Mar 17 23:16:36 2021\n",
      "Thread-2: Wed Mar 17 23:16:37 2021\n",
      "Thread-1: Wed Mar 17 23:16:37 2021\n",
      "Thread-2: Wed Mar 17 23:16:38 2021\n",
      "Exiting Thread-2\n",
      "Exiting Main Thread\n"
     ]
    }
   ],
   "source": [
    "# example of thread class with lock\n",
    "class myThread (threading.Thread):\n",
    "    def __init__(self, threadID, name, counter):\n",
    "        threading.Thread.__init__(self)\n",
    "        self.threadID = threadID\n",
    "        self.name = name\n",
    "        self.counter = counter\n",
    "    \n",
    "    def run(self):\n",
    "        print (\"Starting \" + self.name)\n",
    "        # Get lock to synchronize threads\n",
    "        threadLock.acquire()\n",
    "        print_time(self.name, self.counter, 3)\n",
    "        # Free lock to release next thread\n",
    "        threadLock.release()\n",
    "        print (\"Exiting \" + self.name)\n",
    "\n",
    "def print_time(threadName, delay, counter):\n",
    "    while counter:\n",
    "        time.sleep(delay)\n",
    "        print (\"%s: %s\" % (threadName, time.ctime(time.time())))\n",
    "        counter -= 1\n",
    "\n",
    "threadLock = threading.Lock()\n",
    "threads = []\n",
    "\n",
    "# Create new threads\n",
    "thread1 = myThread(1, \"Thread-1\", 1)\n",
    "thread2 = myThread(2, \"Thread-2\", 2)\n",
    "\n",
    "# Start new Threads\n",
    "thread1.start()\n",
    "thread2.start()\n",
    "\n",
    "# Add threads to thread list\n",
    "threads.append(thread1)\n",
    "threads.append(thread2)\n",
    "\n",
    "# Wait for all threads to complete\n",
    "for t in threads:\n",
    "    t.join()\n",
    "print (\"Exiting Main Thread\")"
   ]
  },
  {
   "cell_type": "markdown",
   "metadata": {},
   "source": [
    "#### Queue module\n",
    "\n",
    "- Queue.get() − remove and return an item from the queue.\n",
    "- Queue.put() − put item into the queue.\n",
    "- Queue.task_done() − Indicate that a formerly enqueued task is complete.\n",
    "- Queue.join() − blocks until all items in the queue have been gotten and processed.\n",
    "  - Queue.task_done is not there for the workers' benefit. It is there to support Queue.join\n",
    "  - always call task_done() and join() together!"
   ]
  },
  {
   "cell_type": "markdown",
   "metadata": {},
   "source": [
    "#### Joins\n",
    "- Thread joins allow to spawn one or more child threads and then have the current thread wait until those threads are finished.\n",
    "- Unlike thread joins, a queue group waits on all of its child tasks simultaneously."
   ]
  },
  {
   "cell_type": "code",
   "execution_count": 5,
   "metadata": {},
   "outputs": [
    {
     "name": "stdout",
     "output_type": "stream",
     "text": [
      "Starting Thread-1\n",
      "Starting Thread-2\n",
      "Starting Thread-3\n",
      "Thread-1: Wed Mar 17 23:16:39 2021\n",
      "Thread-2 processing OneThread-1 processing TwoThread-3 processing Three\n",
      "\n",
      "\n",
      "Thread-3 processing FourThread-2 processing Five\n",
      "\n",
      "Exiting Thread-1\n",
      "Thread-2: Wed Mar 17 23:16:41 2021\n",
      "Exiting Thread-3Exiting Thread-2\n",
      "\n",
      "Exiting Main Thread\n"
     ]
    }
   ],
   "source": [
    "# example of thread class with lock and Queue\n",
    "exitFlag = 0\n",
    "class myThread (threading.Thread):\n",
    "    def __init__(self, threadID, name, q):\n",
    "        threading.Thread.__init__(self)\n",
    "        self.threadID = threadID\n",
    "        self.name = name\n",
    "        self.q = q\n",
    "        \n",
    "    def run(self):\n",
    "        print (\"Starting \" + self.name)\n",
    "        process_data(self.name, self.q)\n",
    "        print (\"Exiting \" + self.name)\n",
    "\n",
    "def process_data(threadName, q):\n",
    "    while not exitFlag:\n",
    "        queueLock.acquire()\n",
    "        if not workQueue.empty():\n",
    "            data = q.get()\n",
    "            queueLock.release()\n",
    "            print (\"%s processing %s\" % (threadName, data))\n",
    "            q.task_done()\n",
    "        else:\n",
    "            queueLock.release() \n",
    "        time.sleep(1)\n",
    "\n",
    "threadList = [\"Thread-1\", \"Thread-2\", \"Thread-3\"]\n",
    "nameList = [\"One\", \"Two\", \"Three\", \"Four\", \"Five\"]\n",
    "queueLock = threading.Lock()\n",
    "workQueue = Queue()\n",
    "threads = []\n",
    "threadID = 1\n",
    "\n",
    "# Create new threads\n",
    "for tName in threadList:\n",
    "    thread = myThread(threadID, tName, workQueue)\n",
    "    thread.start()\n",
    "    threads.append(thread)\n",
    "    threadID += 1\n",
    "\n",
    "# Fill the queue\n",
    "queueLock.acquire()\n",
    "for word in nameList:\n",
    "    workQueue.put(word)\n",
    "queueLock.release()\n",
    "\n",
    "# Block until all tasks are done\n",
    "workQueue.join()\n",
    "\n",
    "# Notify threads it's time to exit\n",
    "exitFlag = 1\n",
    "\n",
    "# Wait for all threads to complete\n",
    "for t in threads:\n",
    "    t.join()\n",
    "print (\"Exiting Main Thread\")"
   ]
  },
  {
   "cell_type": "markdown",
   "metadata": {},
   "source": [
    "#### Daemon thread\n",
    "The threads which are always going to running in the background that provides supports to main or non-daemon threads, those background executing threads are considered as Daemon Threads. The Daemon Thread does not block the main thread from exiting and continues to run in the background.\n",
    "\n",
    "daemon属性可以不设置，默认为None，主线程默认是False。\n",
    "- if daemon is set to True: 父线程在运行完毕后，子线程无论是否正在运行，都会伴随主线程一起退出\n",
    "- if daemon is set to False: 父线程在运行完毕后，会等待所有子线程退出才结束程序\n",
    "- if daemon is set to None: the daemonic property is inherited from the current thread"
   ]
  },
  {
   "cell_type": "code",
   "execution_count": 6,
   "metadata": {},
   "outputs": [
    {
     "name": "stdout",
     "output_type": "stream",
     "text": [
      "i=0,foo thread daemon is True\n",
      "Main thread daemon is False\n",
      "Main Thread Exit.\n"
     ]
    }
   ],
   "source": [
    "# daemon = True, please run it using a script\n",
    "# ipython notebook default has 5 threads\n",
    "# i=0,foo thread daemon is True\n",
    "# Main thread daemon is False\n",
    "# Main Thread Exit.\n",
    "def test():\n",
    "    def foo():\n",
    "        for i in range(3):\n",
    "            print('i={},foo thread daemon is {}'.format(i, threading.current_thread().isDaemon()))\n",
    "            time.sleep(1)\n",
    "\n",
    "    t = threading.Thread(target=foo,daemon=True)\n",
    "    t.start()\n",
    "\n",
    "    print(\"Main thread daemon is {}\".format(threading.current_thread().isDaemon()))\n",
    "    print(\"Main Thread Exit.\")\n",
    "\n",
    "test()"
   ]
  },
  {
   "cell_type": "code",
   "execution_count": 7,
   "metadata": {},
   "outputs": [
    {
     "name": "stdout",
     "output_type": "stream",
     "text": [
      "i=0,foo thread daemon is False\n",
      "Main thread daemon is False\n",
      "Main Thread Exit.\n"
     ]
    }
   ],
   "source": [
    "# daemon = False\n",
    "def foo():\n",
    "    for i in range(3):\n",
    "        print('i={},foo thread daemon is {}'.format(i,threading.current_thread().isDaemon()))\n",
    "        time.sleep(1)\n",
    "\n",
    "t = threading.Thread(target=foo,daemon=False)\n",
    "t.start()\n",
    " \n",
    "print(\"Main thread daemon is {}\".format(threading.current_thread().isDaemon()))\n",
    "print(\"Main Thread Exit.\")"
   ]
  },
  {
   "cell_type": "markdown",
   "metadata": {},
   "source": [
    "#### ThreadPoolExecutor\n",
    "\n",
    "a module to manage threads automatically. \n",
    "\n",
    "https://www.shangyang.me/2018/05/26/python-thread-and-threadpool/ \\\n",
    "https://docs.python.org/3/library/concurrent.futures.html \\\n",
    "- Executor (abstract class, ThreadPoolExecutor, ProcessPoolExecutor)\n",
    "    - submit(fn, *args, **kwargs): \n",
    "    执行fn(*args, **kwargs)并返回一个Future对象; \n",
    "    - map(func, *iterables, timeout=None, chunksize=1)：\n",
    "    与内置的map函数用法相似，区别：1. the iterables are collected immediately rather than lazily; 2. func是异步执行的，多个func可以并发执行. 当使用ProcessPoolExecutor时，设置chunksize的值可以将iterables分块，并一次性发给进程池中的对象，对于很长的迭代对象，使用一个大的chunksize可以提高效率。但是对于ThreadPoolExecutor对象，chunksize没有任何作用。\n",
    "    - shutdown(wait=True):\n",
    "    释放资源的，通过给每个thread或process执行join()方法实现。通过使用with语句可以避免使用这个方法。"
   ]
  },
  {
   "cell_type": "markdown",
   "metadata": {},
   "source": [
    "- executor.submit() 将会向 thread pool 中提交一个待执行的任务，若，当前有空闲的 worker，那么该任务将会被立即执行;该方法会立即返回一个 Future 对象，该对象封装了异步线程的执行等待逻辑，并且，当线程的异步操作执行完成以后，返回该线程执行的结果；\n",
    "- future.result() 的行为类似于 thread.join() 操作，会一直阻塞主进程直到结果返回为止；所以，如果我们同时有多个 Future 对象，那么像上面这种写法，等待前一个 Future 对象的时候会阻塞后续的 Future 对象。"
   ]
  },
  {
   "cell_type": "code",
   "execution_count": 8,
   "metadata": {},
   "outputs": [],
   "source": [
    "import concurrent.futures\n",
    "import urllib.request"
   ]
  },
  {
   "cell_type": "code",
   "execution_count": 9,
   "metadata": {},
   "outputs": [
    {
     "name": "stdout",
     "output_type": "stream",
     "text": [
      "8\n"
     ]
    }
   ],
   "source": [
    "with concurrent.futures.ThreadPoolExecutor(max_workers=1) as executor:\n",
    "    future = executor.submit(pow, 2, 3)\n",
    "    print(future.result())"
   ]
  },
  {
   "cell_type": "markdown",
   "metadata": {},
   "source": [
    "- use futures.as_completed() to check whether a Future object is executed successfully. 这里，并不会像 Future.result() 那么样阻塞主进程，因为它只是简单的判断一下 Future 是否完成，便立刻返回，直到某个 Future 完成以后才会输出. 在源码里，可以看见只要任何一个线程处于pending中，while循环不会退出。"
   ]
  },
  {
   "cell_type": "code",
   "execution_count": 10,
   "metadata": {},
   "outputs": [
    {
     "name": "stdout",
     "output_type": "stream",
     "text": [
      "'http://www.foxnews.com/' page is 278075 bytes\n",
      "'http://europe.wsj.com/' generated an exception: HTTP Error 403: Forbidden\n",
      "'http://www.cnn.com/' page is 1134324 bytes\n",
      "'http://some-made-up-domain.com/' page is 64668 bytes\n",
      "i=1,foo thread daemon is True\n",
      "i=1,foo thread daemon is False\n",
      "'http://www.bbc.co.uk/' page is 302333 bytes\n",
      "i=2,foo thread daemon is True\n",
      "i=2,foo thread daemon is False\n",
      "Thread-2: Wed Mar 17 23:16:45 2021\n",
      "Thread-2: Wed Mar 17 23:16:49 2021\n"
     ]
    }
   ],
   "source": [
    "URLS = ['http://www.foxnews.com/',\n",
    "        'http://www.cnn.com/',\n",
    "        'http://europe.wsj.com/',\n",
    "        'http://www.bbc.co.uk/',\n",
    "        'http://some-made-up-domain.com/']\n",
    "\n",
    "# Retrieve a single page and report the URL and contents\n",
    "def load_url(url, timeout):\n",
    "    with urllib.request.urlopen(url, timeout=timeout) as conn:\n",
    "        return conn.read()\n",
    "\n",
    "# We can use a with statement to ensure threads are cleaned up promptly\n",
    "with concurrent.futures.ThreadPoolExecutor(max_workers=5) as executor:\n",
    "    # Start the load operations and mark each future with its URL\n",
    "    future_to_url = {executor.submit(load_url, url, 60): url for url in URLS}\n",
    "    for future in concurrent.futures.as_completed(future_to_url):\n",
    "        url = future_to_url[future]\n",
    "        try:\n",
    "            data = future.result()\n",
    "        except Exception as exc:\n",
    "            print('%r generated an exception: %s' % (url, exc))\n",
    "        else:\n",
    "            print('%r page is %d bytes' % (url, len(data)))"
   ]
  },
  {
   "cell_type": "markdown",
   "metadata": {},
   "source": [
    "Multiprocessing vs Threading Python \\\n",
    "https://stackoverflow.com/questions/3044580/multiprocessing-vs-threading-python\n",
    "\n",
    "- The threading module uses threads, the multiprocessing module uses processes. The difference is that threads run in the same memory space, while processes have separate memory. This makes it a bit harder to share objects between processes with multiprocessing. Since threads use the same memory, precautions have to be taken or two threads will write to the same memory at the same time. \n",
    "\n",
    "- Spawning processes is a bit slower than spawning threads.\n"
   ]
  }
 ],
 "metadata": {
  "kernelspec": {
   "display_name": "Python 3",
   "language": "python",
   "name": "python3"
  },
  "language_info": {
   "codemirror_mode": {
    "name": "ipython",
    "version": 3
   },
   "file_extension": ".py",
   "mimetype": "text/x-python",
   "name": "python",
   "nbconvert_exporter": "python",
   "pygments_lexer": "ipython3",
   "version": "3.6.12"
  }
 },
 "nbformat": 4,
 "nbformat_minor": 4
}
